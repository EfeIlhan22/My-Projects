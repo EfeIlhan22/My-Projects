{
 "cells": [
  {
   "cell_type": "code",
   "execution_count": 15,
   "metadata": {},
   "outputs": [
    {
     "name": "stdout",
     "output_type": "stream",
     "text": [
      "Reviews have been written to reviews.csv\n"
     ]
    }
   ],
   "source": [
    "import os\n",
    "import requests\n",
    "import csv\n",
    "\n",
    "def get_all_reviews(appid):\n",
    "    reviews = []\n",
    "    cursor = \"*\"\n",
    "    while True:\n",
    "        url = f\"https://store.steampowered.com/appreviews/{appid}\"\n",
    "        params = {\n",
    "            \"json\": 1,\n",
    "            \"filter\": \"all\",\n",
    "            \"language\": \"english\",\n",
    "            \"day_range\": 9223372036854775807,  # Maximum range to get all reviews\n",
    "            \"review_type\": \"all\",\n",
    "            \"purchase_type\": \"all\",\n",
    "            \"num_per_page\": 100,\n",
    "            \"cursor\": cursor\n",
    "        }\n",
    "        response = requests.get(url, params=params)\n",
    "        if response.status_code == 200:\n",
    "            data = response.json()\n",
    "            reviews.extend(data[\"reviews\"])\n",
    "            if len(data[\"reviews\"]) < 100:\n",
    "                break\n",
    "            cursor = data[\"cursor\"]\n",
    "        else:\n",
    "            break\n",
    "    return reviews\n",
    "\n",
    "def write_reviews_to_csv(reviews, filename):\n",
    "    with open(filename, mode='w', newline='', encoding='utf-8') as file:\n",
    "        writer = csv.writer(file)\n",
    "        writer.writerow([\"review_id\", \"author\", \"review\", \"timestamp_created\", \"rating\"])\n",
    "        for review in reviews:\n",
    "            writer.writerow([\n",
    "                review[\"recommendationid\"],\n",
    "                review[\"author\"][\"steamid\"],\n",
    "                review[\"review\"],\n",
    "                review[\"timestamp_created\"],\n",
    "                review[\"voted_up\"]\n",
    "            ])\n",
    "\n",
    "appid = \"730\"  # Example AppID for Team Fortress 2\n",
    "all_reviews = get_all_reviews(appid)\n",
    "\n",
    "if all_reviews:\n",
    "    write_reviews_to_csv(all_reviews, \"english_reviews.csv\")\n",
    "    print(\"Reviews have been written to reviews.csv\")\n",
    "else:\n",
    "    print(\"Failed to fetch reviews\")\n"
   ]
  }
 ],
 "metadata": {
  "kernelspec": {
   "display_name": "Python 3",
   "language": "python",
   "name": "python3"
  },
  "language_info": {
   "codemirror_mode": {
    "name": "ipython",
    "version": 3
   },
   "file_extension": ".py",
   "mimetype": "text/x-python",
   "name": "python",
   "nbconvert_exporter": "python",
   "pygments_lexer": "ipython3",
   "version": "3.12.4"
  }
 },
 "nbformat": 4,
 "nbformat_minor": 2
}
